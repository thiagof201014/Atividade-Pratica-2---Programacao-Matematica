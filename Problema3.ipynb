{
  "nbformat": 4,
  "nbformat_minor": 0,
  "metadata": {
    "colab": {
      "provenance": []
    },
    "kernelspec": {
      "name": "python3",
      "display_name": "Python 3"
    },
    "language_info": {
      "name": "python"
    }
  },
  "cells": [
    {
      "cell_type": "markdown",
      "source": [
        "# Alunos\n",
        "Thiago Pereira Freire - 202110167\n",
        "\n",
        "Daniel Messias Santos - 202110168"
      ],
      "metadata": {
        "id": "wazQbwduVK6S"
      }
    },
    {
      "cell_type": "markdown",
      "source": [
        "# Enunciado\n",
        "\n",
        "Suponha que temos uma tabela de nutrientes de diferentes tipos de alimentos. Sabendo o Valor Diário de Referência (VDR) de cada nutriente e o preço de cada unidade de alimento, qual é a dieta ótima que contém pelo menos o Valor Diário de Referência e possui o menor custo?\n",
        "\n",
        "Para esta modelagem, considere $m_m$ nutrientes e nn alimentos. Defina $a_{ij}$ a quantidade do nutriente $i_i$ no alimento $j_j$, e $r_i$​ o valor diário mínimo de referência do nutriente $i_i$. Adicionalmente, seja $c_j$​ o preço do alimento $j_j$. Sua implementação do modelo de programação linear, utilizando o gurobipy, deve estabelecer as quantidades (em gramas) de cada alimento $j_j$ na dieta.\n",
        "\n",
        "Como inputs, utilizaremos dados do McDonald's, já disponíveis no Campus Virtual. Os valores dos nutrientes são em % do VDR, por isso podemos usar simplesmente $r_i$ = 100%. As colunas que contêm um \"NA\" indicam que o valor \"default\" é usado. Logo, se \"NA\" aparece em um parâmetro que reflete um limite inferior, deve-se adotar o valor zero (0) como \"default\". Caso \"NA\" apareça em parâmetros de limite superior, então o valor \"default\" será um inteiro suficientemente grande (teoricamente: ∞)."
      ],
      "metadata": {
        "id": "Yc1nzH3KVkjv"
      }
    },
    {
      "cell_type": "markdown",
      "source": [
        "$$ min f(c) = c_j $$"
      ],
      "metadata": {
        "id": "SoDGKrrRYoMo"
      }
    },
    {
      "cell_type": "markdown",
      "source": [
        "# Restrições"
      ],
      "metadata": {
        "id": "awC6wtLRCfdp"
      }
    },
    {
      "cell_type": "markdown",
      "source": [
        "$$ \\sum_{j=1}^n a_{ij} >= r_i $$"
      ],
      "metadata": {
        "id": "SOiTiWUACmF6"
      }
    },
    {
      "cell_type": "code",
      "execution_count": 85,
      "metadata": {
        "id": "m_MVoqTfTHCx",
        "colab": {
          "base_uri": "https://localhost:8080/"
        },
        "outputId": "f996e982-9936-4c13-dc9a-5bb73e0f9a50"
      },
      "outputs": [
        {
          "output_type": "stream",
          "name": "stdout",
          "text": [
            "Requirement already satisfied: gurobipy in /usr/local/lib/python3.10/dist-packages (12.0.0)\n"
          ]
        }
      ],
      "source": [
        "!pip install gurobipy"
      ]
    },
    {
      "cell_type": "code",
      "source": [
        "from gurobipy import Model, GRB\n",
        "import pandas as pd\n",
        "\n",
        "modelo = Model(\"dieta\")"
      ],
      "metadata": {
        "id": "9M7pQ2MPGHmj"
      },
      "execution_count": 86,
      "outputs": []
    },
    {
      "cell_type": "code",
      "source": [
        "# Ler o arquivo WSV usando pandas\n",
        "nutrientes = pd.read_csv(\"McDonalds-amnt.wsv\", sep='\\s+', header=1, index_col=0)\n",
        "custo = pd.read_csv(\"McDonalds-food.wsv\", sep='\\s+', header=2, index_col=0)\n",
        "referencia = pd.read_csv(\"McDonalds-nutr.wsv\", sep='\\s+', header=1, index_col=0)"
      ],
      "metadata": {
        "id": "9Ek8rzbdhNDs"
      },
      "execution_count": null,
      "outputs": []
    },
    {
      "cell_type": "code",
      "source": [
        "quantidade = []\n",
        "\n",
        "for i in range(nutrientes.shape[0]):\n",
        "  nome = nutrientes.index[i]  # Acessa o nome do alimento (primeira coluna)\n",
        "  variavel = modelo.addVar(name=nome, vtype=GRB.CONTINUOUS, lb=0)\n",
        "  quantidade.append(variavel)\n"
      ],
      "metadata": {
        "id": "FQsCo84GfNiy"
      },
      "execution_count": 60,
      "outputs": []
    },
    {
      "cell_type": "markdown",
      "source": [
        "## Função objetivo"
      ],
      "metadata": {
        "id": "W_Mno7XOQMkq"
      }
    },
    {
      "cell_type": "code",
      "source": [
        "modelo.setObjective(sum(quantidade[i] * int(custo.iloc[i, 0]) for i in range(len(quantidade))), GRB.MINIMIZE)"
      ],
      "metadata": {
        "id": "GuFJp5wDQLrK"
      },
      "execution_count": 61,
      "outputs": []
    },
    {
      "cell_type": "markdown",
      "source": [
        "## Restrições"
      ],
      "metadata": {
        "id": "P6uNnsD1Ragm"
      }
    },
    {
      "cell_type": "code",
      "source": [
        "for j in range(nutrientes.shape[1]):\n",
        "  modelo.addConstr(sum(quantidade[i] * int(nutrientes.iloc[i, j]) for i in range(len(quantidade))) >= referencia.iloc[j,0], f\"minimo_{referencia.index[j]}\")"
      ],
      "metadata": {
        "id": "oxSdO9PaSTHA"
      },
      "execution_count": 63,
      "outputs": []
    },
    {
      "cell_type": "code",
      "source": [
        "modelo.optimize()"
      ],
      "metadata": {
        "colab": {
          "base_uri": "https://localhost:8080/"
        },
        "id": "0mqRYKDnUU4-",
        "outputId": "1b1c206f-e45e-4c25-c369-9b40a5490366"
      },
      "execution_count": 64,
      "outputs": [
        {
          "output_type": "stream",
          "name": "stdout",
          "text": [
            "Gurobi Optimizer version 12.0.0 build v12.0.0rc1 (linux64 - \"Ubuntu 22.04.3 LTS\")\n",
            "\n",
            "CPU model: Intel(R) Xeon(R) CPU @ 2.20GHz, instruction set [SSE2|AVX|AVX2]\n",
            "Thread count: 1 physical cores, 2 logical processors, using up to 2 threads\n",
            "\n",
            "Optimize a model with 20 rows, 254 columns and 1268 nonzeros\n",
            "Model fingerprint: 0xb824f6f7\n",
            "Coefficient statistics:\n",
            "  Matrix range     [1e+00, 1e+02]\n",
            "  Objective range  [1e+00, 1e+01]\n",
            "  Bounds range     [0e+00, 0e+00]\n",
            "  RHS range        [1e+02, 1e+02]\n",
            "Presolve removed 10 rows and 184 columns\n",
            "Presolve time: 0.01s\n",
            "Presolved: 10 rows, 70 columns, 588 nonzeros\n",
            "\n",
            "Iteration    Objective       Primal Inf.    Dual Inf.      Time\n",
            "       0    0.0000000e+00   7.500000e+01   0.000000e+00      0s\n",
            "       4    2.0642202e+01   0.000000e+00   0.000000e+00      0s\n",
            "\n",
            "Solved in 4 iterations and 0.02 seconds (0.00 work units)\n",
            "Optimal objective  2.064220183e+01\n"
          ]
        }
      ]
    },
    {
      "cell_type": "markdown",
      "source": [
        "## Resultados"
      ],
      "metadata": {
        "id": "PIkFq_K1VM0W"
      }
    },
    {
      "cell_type": "code",
      "source": [
        "if(modelo.status == GRB.OPTIMAL):\n",
        "  for i in range(len(quantidade)):\n",
        "    if(quantidade[i].x > 0):\n",
        "      print(quantidade[i].varName, quantidade[i].x)"
      ],
      "metadata": {
        "colab": {
          "base_uri": "https://localhost:8080/"
        },
        "id": "CHxWYifJUXc_",
        "outputId": "ffea9e17-0703-40ba-e1f6-204ebabfd1e3"
      },
      "execution_count": 73,
      "outputs": [
        {
          "output_type": "stream",
          "name": "stdout",
          "text": [
            "McDuplo 5.045871559633028\n",
            "Casquinha Baunilha 2.293577981651376\n",
            "Maçã 3.2110091743119265\n"
          ]
        }
      ]
    },
    {
      "cell_type": "markdown",
      "source": [
        "## Análise de sensibilidade"
      ],
      "metadata": {
        "id": "rAr3QNLJVJMT"
      }
    },
    {
      "cell_type": "code",
      "source": [
        "print(\"\\nIntervalos de Custos (Vetor de Custos):\")\n",
        "for variavel in modelo.getVars():\n",
        "  if(variavel.SAObjLow != 0.0 and variavel.SAObjUp != \"inf\"):\n",
        "    print(f\"Variável {variavel.VarName}:\")\n",
        "    print(f\"  lower bound do custo (SAObjLow): {variavel.SAObjLow}\")\n",
        "    print(f\"  upper bound do custo (SAObjUp): {variavel.SAObjUp}\")\n",
        "\n",
        "print(\"\\nIntervalos de Recursos (Vetor de Recursos):\")\n",
        "for restricao in modelo.getConstrs():\n",
        "  print(f\"Restrição {restricao.ConstrName}:\")\n",
        "  print(f\"  lower bound do recurso (SARHSLow): {restricao.SARHSLow}\")\n",
        "  print(f\"  upper bound do recurso (SARHSUp): {restricao.SARHSUp}\")"
      ],
      "metadata": {
        "id": "haeT2F69VIZi"
      },
      "execution_count": null,
      "outputs": []
    },
    {
      "cell_type": "markdown",
      "source": [
        "### Explicação\n",
        "A solução indica podemos comprar apenas MCDuplo, Casquinha de Baunilha e Maçã para atender os requisitos de nutrientes diários necessários.\n",
        "Pela análise de sensibilidade, podemos observar qual o valor que cada um dos alimentos que não foram comprados devem assumir para alterar a solução, ou seja, qual o valor devem assumir para que valham a pena de serem comprados.\n",
        "\n",
        "Além disso, pode-se notar que os nutrientes Colesterol e Carboidrato definem a quantidade de nutrientes a serem consumidos, pelo fato de que o limite inferior definido a eles é diferente de  -∞.\n"
      ],
      "metadata": {
        "id": "9GqbRr7_Y08n"
      }
    },
    {
      "cell_type": "markdown",
      "source": [
        "## Dieta vegetariana"
      ],
      "metadata": {
        "id": "aLRqLDdtb4hd"
      }
    },
    {
      "cell_type": "code",
      "source": [
        "modelo_veg = Model(\"dieta_vegetariana\")"
      ],
      "metadata": {
        "id": "H9AYyNCJb7YW"
      },
      "execution_count": 87,
      "outputs": []
    },
    {
      "cell_type": "code",
      "source": [
        "quantidade = []\n",
        "food_index = []\n",
        "\n",
        "for i in range(nutrientes.shape[0]):\n",
        "  if(custo.iloc[i, 3] == True):\n",
        "    food_index.append(i)\n",
        "    nome = nutrientes.index[i]  # Acessa o nome do alimento (primeira coluna)\n",
        "    variavel = modelo_veg.addVar(name=nome, vtype=GRB.CONTINUOUS, lb=0)\n",
        "    quantidade.append(variavel)"
      ],
      "metadata": {
        "id": "Q0_zRe-VcAnl"
      },
      "execution_count": 96,
      "outputs": []
    },
    {
      "cell_type": "code",
      "source": [
        "modelo_veg.setObjective(sum(quantidade[i] * int(custo.iloc[food_index[i], 0]) for i in range(len(food_index))), GRB.MINIMIZE)"
      ],
      "metadata": {
        "id": "LNm7ZqOihiSn"
      },
      "execution_count": 98,
      "outputs": []
    },
    {
      "cell_type": "code",
      "source": [
        "for j in range(nutrientes.shape[1]):\n",
        "  modelo_veg.addConstr(sum(quantidade[i] * int(nutrientes.iloc[food_index[i], j]) for i in range(len(food_index))) >= referencia.iloc[j,0], f\"minimo_{referencia.index[j]}\")"
      ],
      "metadata": {
        "id": "kSElvFUdd4Do"
      },
      "execution_count": 99,
      "outputs": []
    },
    {
      "cell_type": "code",
      "source": [
        "modelo_veg.optimize()"
      ],
      "metadata": {
        "colab": {
          "base_uri": "https://localhost:8080/"
        },
        "id": "JzKY5HO5hu4Y",
        "outputId": "276da0ce-5c9d-440f-cdef-99129838d83c"
      },
      "execution_count": 107,
      "outputs": [
        {
          "output_type": "stream",
          "name": "stdout",
          "text": [
            "Gurobi Optimizer version 12.0.0 build v12.0.0rc1 (linux64 - \"Ubuntu 22.04.3 LTS\")\n",
            "\n",
            "CPU model: Intel(R) Xeon(R) CPU @ 2.20GHz, instruction set [SSE2|AVX|AVX2]\n",
            "Thread count: 1 physical cores, 2 logical processors, using up to 2 threads\n",
            "\n",
            "Optimize a model with 20 rows, 335 columns and 928 nonzeros\n",
            "Coefficient statistics:\n",
            "  Matrix range     [1e+00, 1e+02]\n",
            "  Objective range  [1e+00, 1e+01]\n",
            "  Bounds range     [0e+00, 0e+00]\n",
            "  RHS range        [1e+02, 1e+02]\n",
            "\n",
            "Solved in 0 iterations and 0.01 seconds (0.00 work units)\n",
            "Optimal objective  2.804878049e+01\n"
          ]
        }
      ]
    },
    {
      "cell_type": "code",
      "source": [
        "if(modelo_veg.status == GRB.OPTIMAL):\n",
        "  for i in range(len(quantidade)):\n",
        "    if(quantidade[i].x > 0):\n",
        "      print(quantidade[i].varName, quantidade[i].x)"
      ],
      "metadata": {
        "colab": {
          "base_uri": "https://localhost:8080/"
        },
        "id": "4rh1Yeozhxt7",
        "outputId": "b04148f4-5077-433c-81d0-19d2433f8ed3"
      },
      "execution_count": 108,
      "outputs": [
        {
          "output_type": "stream",
          "name": "stdout",
          "text": [
            "Molho Salada Ranch 7.317073170731705\n",
            "Casquinha Baunilha 13.658536585365857\n",
            "Casquinha Chocolate 2.1951219512195115\n",
            "Maçã 4.878048780487804\n"
          ]
        }
      ]
    },
    {
      "cell_type": "markdown",
      "source": [
        "## Dieta com apenas uma unidade de cada alimento, ou nenhum"
      ],
      "metadata": {
        "id": "QqCqTX14if39"
      }
    },
    {
      "cell_type": "code",
      "source": [
        "modelo_uni = Model(\"dieta_unitaria\")"
      ],
      "metadata": {
        "id": "PF54TiNDi2jQ"
      },
      "execution_count": 109,
      "outputs": []
    },
    {
      "cell_type": "code",
      "source": [
        "quantidade = []\n",
        "\n",
        "for i in range(nutrientes.shape[0]):\n",
        "  nome = nutrientes.index[i]  # Acessa o nome do alimento (primeira coluna)\n",
        "  variavel = modelo_uni.addVar(name=nome, vtype=GRB.INTEGER, lb=0)\n",
        "  quantidade.append(variavel)"
      ],
      "metadata": {
        "id": "owUctZ-jjIsX"
      },
      "execution_count": 110,
      "outputs": []
    },
    {
      "cell_type": "code",
      "source": [
        "modelo_uni.setObjective(sum(quantidade[i] * int(custo.iloc[i, 0]) for i in range(len(quantidade))), GRB.MINIMIZE)"
      ],
      "metadata": {
        "id": "c2m-ZsV6jSme"
      },
      "execution_count": 111,
      "outputs": []
    },
    {
      "cell_type": "code",
      "source": [
        "for j in range(nutrientes.shape[1]):\n",
        "  modelo_uni.addConstr(sum(quantidade[i] * int(nutrientes.iloc[i, j]) for i in range(len(quantidade))) >= referencia.iloc[j,0], f\"minimo_{referencia.index[j]}\")\n",
        "for i in range(nutrientes.shape[0]):\n",
        "  modelo_uni.addConstr(quantidade[i] <= 1, f\"unidade_{i}\")"
      ],
      "metadata": {
        "id": "gVZa4pYPjUvY"
      },
      "execution_count": 112,
      "outputs": []
    },
    {
      "cell_type": "code",
      "source": [
        "modelo_uni.optimize()"
      ],
      "metadata": {
        "colab": {
          "base_uri": "https://localhost:8080/"
        },
        "id": "novYrnoojsCH",
        "outputId": "1b18d5f9-f584-4ab9-fbc0-65832e00ea17"
      },
      "execution_count": 113,
      "outputs": [
        {
          "output_type": "stream",
          "name": "stdout",
          "text": [
            "Gurobi Optimizer version 12.0.0 build v12.0.0rc1 (linux64 - \"Ubuntu 22.04.3 LTS\")\n",
            "\n",
            "CPU model: Intel(R) Xeon(R) CPU @ 2.20GHz, instruction set [SSE2|AVX|AVX2]\n",
            "Thread count: 1 physical cores, 2 logical processors, using up to 2 threads\n",
            "\n",
            "Optimize a model with 94 rows, 84 columns and 718 nonzeros\n",
            "Model fingerprint: 0x4d6f14f3\n",
            "Variable types: 0 continuous, 84 integer (0 binary)\n",
            "Coefficient statistics:\n",
            "  Matrix range     [1e+00, 1e+02]\n",
            "  Objective range  [1e+00, 1e+01]\n",
            "  Bounds range     [0e+00, 0e+00]\n",
            "  RHS range        [1e+00, 1e+02]\n",
            "Found heuristic solution: objective 53.0000000\n",
            "Presolve removed 85 rows and 5 columns\n",
            "Presolve time: 0.01s\n",
            "Presolved: 9 rows, 79 columns, 561 nonzeros\n",
            "Variable types: 0 continuous, 79 integer (79 binary)\n",
            "\n",
            "Root relaxation: objective 2.747302e+01, 10 iterations, 0.00 seconds (0.00 work units)\n",
            "\n",
            "    Nodes    |    Current Node    |     Objective Bounds      |     Work\n",
            " Expl Unexpl |  Obj  Depth IntInf | Incumbent    BestBd   Gap | It/Node Time\n",
            "\n",
            "     0     0   27.47302    0    3   53.00000   27.47302  48.2%     -    0s\n",
            "H    0     0                      35.0000000   27.47302  21.5%     -    0s\n",
            "H    0     0                      30.0000000   27.47302  8.42%     -    0s\n",
            "H    0     0                      29.0000000   27.47302  5.27%     -    0s\n",
            "     0     0   27.55305    0    5   29.00000   27.55305  4.99%     -    0s\n",
            "     0     0   27.55305    0    3   29.00000   27.55305  4.99%     -    0s\n",
            "     0     0   27.62108    0    3   29.00000   27.62108  4.75%     -    0s\n",
            "     0     0   27.73492    0    6   29.00000   27.73492  4.36%     -    0s\n",
            "     0     0   27.74736    0    6   29.00000   27.74736  4.32%     -    0s\n",
            "     0     0   27.84234    0    7   29.00000   27.84234  3.99%     -    0s\n",
            "     0     0   27.89459    0    7   29.00000   27.89459  3.81%     -    0s\n",
            "\n",
            "Cutting planes:\n",
            "  Gomory: 1\n",
            "  Cover: 2\n",
            "  MIR: 3\n",
            "  RLT: 1\n",
            "\n",
            "Explored 1 nodes (32 simplex iterations) in 0.11 seconds (0.00 work units)\n",
            "Thread count was 2 (of 2 available processors)\n",
            "\n",
            "Solution count 6: 29 29 30 ... 53\n",
            "\n",
            "Optimal solution found (tolerance 1.00e-04)\n",
            "Best objective 2.900000000000e+01, best bound 2.900000000000e+01, gap 0.0000%\n"
          ]
        }
      ]
    },
    {
      "cell_type": "code",
      "source": [
        "if(modelo_uni.status == GRB.OPTIMAL):\n",
        "  for i in range(len(quantidade)):\n",
        "    if(quantidade[i].x > 0):\n",
        "      print(quantidade[i].varName, quantidade[i].x)"
      ],
      "metadata": {
        "colab": {
          "base_uri": "https://localhost:8080/"
        },
        "id": "9NySuEmdjuGf",
        "outputId": "46be59c4-542a-4a39-c5d1-e8143ae90f95"
      },
      "execution_count": 114,
      "outputs": [
        {
          "output_type": "stream",
          "name": "stdout",
          "text": [
            "Quarterão com Queijo 1.0\n",
            "McNífico Bacon 1.0\n",
            "McDuplo 1.0\n",
            "McBacon Junior 1.0\n",
            "McFritas grande 1.0\n",
            "McFritas pequena 1.0\n",
            "Casquinha Baunilha 1.0\n",
            "Casquinha Chocolate 1.0\n",
            "Casquinha Mista 1.0\n",
            "Maçã 1.0\n"
          ]
        }
      ]
    }
  ]
}